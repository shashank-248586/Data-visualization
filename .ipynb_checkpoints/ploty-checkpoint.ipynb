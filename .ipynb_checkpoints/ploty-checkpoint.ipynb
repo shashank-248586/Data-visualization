{
 "cells": [
  {
   "cell_type": "code",
   "execution_count": null,
   "id": "4f3526d5-8948-452c-ac3f-39400aba10c5",
   "metadata": {},
   "outputs": [],
   "source": [
    "import plotly.graph_objects as go\n",
    "import plotly.express as px\n",
    "import pandas as pd\n",
    "import numpy as np"
   ]
  },
  {
   "cell_type": "code",
   "execution_count": null,
   "id": "2c9ebcc8-37cb-42a1-bf27-53ca9bb84d9a",
   "metadata": {},
   "outputs": [],
   "source": [
    "np.random.seed(30)\n",
    "data = {\n",
    " 'X': np.random.uniform(-10, 10, 300),\n",
    " 'Y': np.random.uniform(-10, 10, 300),\n",
    " 'Z': np.random.uniform(-10, 10, 300)\n",
    " }\n",
    " \n",
    "df = pd.DataFrame(data)\n",
    "fig = go.Figure()\n",
    "fig.add_trace(go.Scatter3d(x = df['X'], y = df['Y'],  z = df['Z']))"
   ]
  },
  {
   "cell_type": "code",
   "execution_count": null,
   "id": "9d7b0a20-d014-4066-b567-82ee18d13ec8",
   "metadata": {},
   "outputs": [],
   "source": [
    "np.random.seed(15)\n",
    "data = {\n",
    " 'Grade': np.random.choice(['A', 'B', 'C', 'D', 'F'], 200),\n",
    " 'Score': np.random.randint(50, 100, 200)\n",
    " }\n",
    " \n",
    "df = pd.DataFrame(data)\n",
    "fig=px.violin(x=df['Grade'],y=df['Score'])\n",
    "fig.show()"
   ]
  },
  {
   "cell_type": "code",
   "execution_count": null,
   "id": "52bb4c04-ed4d-4b65-8936-17e88754cec1",
   "metadata": {},
   "outputs": [],
   "source": [
    "data = {\n",
    " 'Month': np.random.choice(['Jan', 'Feb', 'Mar', 'Apr', 'May'], 100),\n",
    " 'Day': np.random.choice(range(1, 31), 100),\n",
    " 'Sales': np.random.randint(1000, 5000, 100)\n",
    " }\n",
    " \n",
    "df = pd.DataFrame(data)\n",
    "a=df[['Day','Sales']]\n",
    "fig=px.imshow(a.corr())\n",
    "fig.show()"
   ]
  },
  {
   "cell_type": "code",
   "execution_count": null,
   "id": "28e4ec10-d8e0-404a-bd6e-8308b1054f20",
   "metadata": {},
   "outputs": [],
   "source": [
    "fig=px.violin(x=df['Month'],y=df['Sales'])\n",
    "fig.show()"
   ]
  },
  {
   "cell_type": "code",
   "execution_count": null,
   "id": "b936f9bd-8b80-4f32-b766-356522eff74d",
   "metadata": {},
   "outputs": [],
   "source": [
    "np.random.seed(20)\n",
    "data = {\n",
    " 'Month': np.random.choice(['Jan', 'Feb', 'Mar', 'Apr', 'May'], 100),\n",
    " 'Day': np.random.choice(range(1, 31), 100),\n",
    " 'Sales': np.random.randint(1000, 5000, 100)\n",
    " }\n",
    " \n",
    "df = pd.DataFrame(data)\n",
    "a=df[['Month','Day']]\n",
    "\n",
    "fig=px.imshow(a)\n",
    "fig.show()"
   ]
  },
  {
   "cell_type": "code",
   "execution_count": null,
   "id": "3d91345c-c87b-4b10-83c1-39856b411276",
   "metadata": {},
   "outputs": [],
   "source": [
    "x = np.linspace(-5, 5, 100)\n",
    "y = np.linspace(-5, 5, 100)\n",
    "x, y = np.meshgrid(x, y)\n",
    "z = np.sin(np.sqrt(x**2 + y**2))\n",
    "data = {\n",
    " 'X': x.flatten(),\n",
    " 'Y': y.flatten(),\n",
    " 'Z': z.flatten()\n",
    " }\n",
    " \n",
    "df = pd.DataFrame(data)\n",
    "df\n",
    "fig = go.Figure()\n",
    "fig.add_trace(go.Scatter3d(x = df['X'], y = df['Y'],  z = df['Z']))"
   ]
  },
  {
   "cell_type": "code",
   "execution_count": null,
   "id": "315d6d33-b505-4a80-9061-0a0d15a46056",
   "metadata": {},
   "outputs": [],
   "source": [
    "np.random.seed(25)\n",
    "data = {\n",
    " 'Country': ['USA', 'Canada', 'UK', \n",
    "'Germany', 'France'],\n",
    " 'Population': \n",
    "np.random.randint(100, 1000, 5),\n",
    " 'GDP': np.random.randint(500, 2000, \n",
    "5)\n",
    " }\n",
    " \n",
    "df = pd.DataFrame(data)\n",
    "df\n",
    "fig = go.Figure()\n",
    "fig.add_trace(go.Scatter(x =df['GDP'], y = df['Population'], mode='markers', marker_size = 0.05*df['Population']))"
   ]
  }
 ],
 "metadata": {
  "kernelspec": {
   "display_name": "Python 3 (ipykernel)",
   "language": "python",
   "name": "python3"
  },
  "language_info": {
   "codemirror_mode": {
    "name": "ipython",
    "version": 3
   },
   "file_extension": ".py",
   "mimetype": "text/x-python",
   "name": "python",
   "nbconvert_exporter": "python",
   "pygments_lexer": "ipython3",
   "version": "3.10.8"
  }
 },
 "nbformat": 4,
 "nbformat_minor": 5
}
